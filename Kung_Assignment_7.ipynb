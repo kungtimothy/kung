{
  "nbformat": 4,
  "nbformat_minor": 0,
  "metadata": {
    "colab": {
      "provenance": [],
      "toc_visible": true
    },
    "kernelspec": {
      "name": "python3",
      "display_name": "Python 3"
    },
    "language_info": {
      "name": "python"
    }
  },
  "cells": [
    {
      "cell_type": "code",
      "execution_count": null,
      "metadata": {
        "colab": {
          "base_uri": "https://localhost:8080/"
        },
        "id": "_EZ2VlbfguEC",
        "outputId": "280cd3c5-aece-434e-e07b-85637e58bd1c"
      },
      "outputs": [
        {
          "output_type": "stream",
          "name": "stdout",
          "text": [
            "2023-10-28\n"
          ]
        }
      ],
      "source": [
        "from datetime import date\n",
        "\n",
        "date = date.today()\n",
        "print(date)"
      ]
    },
    {
      "cell_type": "code",
      "source": [
        "two_times_two = 2 * 2\n",
        "two_times_two"
      ],
      "metadata": {
        "colab": {
          "base_uri": "https://localhost:8080/"
        },
        "id": "e9wlyKKbhtlD",
        "outputId": "f8028b2e-f392-4eb7-8a4a-f570a7eb0ed2"
      },
      "execution_count": null,
      "outputs": [
        {
          "output_type": "execute_result",
          "data": {
            "text/plain": [
              "4"
            ]
          },
          "metadata": {},
          "execution_count": 8
        }
      ]
    },
    {
      "cell_type": "markdown",
      "source": [
        "Github increases transparency by providing a public repository, allowing viewers to view raw code and track changes over time.\n",
        "\n",
        "With many hands are writing code, when errors and conflicts arise, tracking and isolating changes can be difficult. Repositories like Github allows one to see who wrote which lines of code and when. This way, users can backtrack to before the error and/or trace lines of code to individuals to help pinpoint the mistake.\n",
        "\n"
      ],
      "metadata": {
        "id": "AzOLAtplizc2"
      }
    }
  ]
}